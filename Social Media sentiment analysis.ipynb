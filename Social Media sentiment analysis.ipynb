{
 "cells": [
  {
   "cell_type": "code",
   "execution_count": 230,
   "metadata": {
    "collapsed": true
   },
   "outputs": [],
   "source": [
    "import csv\n",
    "import pandas as pd\n",
    "import numpy as np\n",
    "import json\n",
    "import tweepy\n",
    "import time\n",
    "import matplotlib.pyplot as plt\n",
    "import time\n",
    "import seaborn as sns"
   ]
  },
  {
   "cell_type": "code",
   "execution_count": 231,
   "metadata": {
    "collapsed": true
   },
   "outputs": [],
   "source": [
    "from vaderSentiment.vaderSentiment import SentimentIntensityAnalyzer\n",
    "analyzer = SentimentIntensityAnalyzer()"
   ]
  },
  {
   "cell_type": "code",
   "execution_count": 232,
   "metadata": {},
   "outputs": [],
   "source": [
    "from config import consumer_key\n",
    "from config import consumer_secret\n",
    "from config import access_token\n",
    "from config import access_token_secret"
   ]
  },
  {
   "cell_type": "code",
   "execution_count": 233,
   "metadata": {},
   "outputs": [],
   "source": [
    "auth = tweepy.OAuthHandler(consumer_key, consumer_secret)\n",
    "auth.set_access_token(access_token, access_token_secret)\n",
    "api = tweepy.API(auth)"
   ]
  },
  {
   "cell_type": "code",
   "execution_count": 234,
   "metadata": {
    "collapsed": true
   },
   "outputs": [],
   "source": [
    "News_accounts = ['BBCNews', 'CBSNews', 'CNN', 'FoxNews', 'nytimes']"
   ]
  },
  {
   "cell_type": "code",
   "execution_count": 235,
   "metadata": {},
   "outputs": [],
   "source": [
    "data = []\n",
    "\n",
    "for user in News_accounts:\n",
    "    counter=1\n",
    "    time.sleep(.5)\n",
    "    for page in tweepy.Cursor(api.user_timeline, id=user, count=20).pages(5):\n",
    "        time.sleep(.1)\n",
    "        for t in page:\n",
    "            tweet=t._json\n",
    "            compound = analyzer.polarity_scores(tweet[\"text\"])[\"compound\"]\n",
    "            pos = analyzer.polarity_scores(tweet[\"text\"])[\"pos\"]\n",
    "            neu = analyzer.polarity_scores(tweet[\"text\"])[\"neu\"]\n",
    "            neg = analyzer.polarity_scores(tweet[\"text\"])[\"neg\"]\n",
    "            tweets_ago = counter\n",
    "            data.append({\"Tweet\":tweet[\"text\"], \n",
    "                               \"Compound\": compound,\n",
    "                               \"Positive\": pos,\n",
    "                               \"Negative\": neu,\n",
    "                               \"Neutral\": neg,\n",
    "                               \"tweet ago\":counter,\n",
    "                               \"account\":tweet[\"user\"][\"name\"]})\n",
    "\n",
    "            counter +=1\n",
    "          "
   ]
  },
  {
   "cell_type": "code",
   "execution_count": 236,
   "metadata": {},
   "outputs": [],
   "source": [
    "data_pd = pd.DataFrame.from_dict(data)\n",
    "data_pd.to_csv('./dataframe.csv')"
   ]
  },
  {
   "cell_type": "code",
   "execution_count": 237,
   "metadata": {},
   "outputs": [
    {
     "data": {
      "text/html": [
       "<div>\n",
       "<style>\n",
       "    .dataframe thead tr:only-child th {\n",
       "        text-align: right;\n",
       "    }\n",
       "\n",
       "    .dataframe thead th {\n",
       "        text-align: left;\n",
       "    }\n",
       "\n",
       "    .dataframe tbody tr th {\n",
       "        vertical-align: top;\n",
       "    }\n",
       "</style>\n",
       "<table border=\"1\" class=\"dataframe\">\n",
       "  <thead>\n",
       "    <tr style=\"text-align: right;\">\n",
       "      <th></th>\n",
       "      <th>Compound</th>\n",
       "      <th>Negative</th>\n",
       "      <th>Neutral</th>\n",
       "      <th>Positive</th>\n",
       "      <th>Tweet</th>\n",
       "      <th>account</th>\n",
       "      <th>tweet ago</th>\n",
       "    </tr>\n",
       "  </thead>\n",
       "  <tbody>\n",
       "    <tr>\n",
       "      <th>0</th>\n",
       "      <td>-0.7096</td>\n",
       "      <td>0.459</td>\n",
       "      <td>0.541</td>\n",
       "      <td>0.0</td>\n",
       "      <td>Schools cutting posts amid 'funding catastroph...</td>\n",
       "      <td>BBC News (UK)</td>\n",
       "      <td>1</td>\n",
       "    </tr>\n",
       "    <tr>\n",
       "      <th>1</th>\n",
       "      <td>-0.6249</td>\n",
       "      <td>0.687</td>\n",
       "      <td>0.313</td>\n",
       "      <td>0.0</td>\n",
       "      <td>Met Police chief: Social media leads children ...</td>\n",
       "      <td>BBC News (UK)</td>\n",
       "      <td>2</td>\n",
       "    </tr>\n",
       "    <tr>\n",
       "      <th>2</th>\n",
       "      <td>0.0000</td>\n",
       "      <td>1.000</td>\n",
       "      <td>0.000</td>\n",
       "      <td>0.0</td>\n",
       "      <td>Stansted Airport: Flights to resume after canc...</td>\n",
       "      <td>BBC News (UK)</td>\n",
       "      <td>3</td>\n",
       "    </tr>\n",
       "    <tr>\n",
       "      <th>3</th>\n",
       "      <td>-0.3182</td>\n",
       "      <td>0.777</td>\n",
       "      <td>0.223</td>\n",
       "      <td>0.0</td>\n",
       "      <td>Islamic State 'Beatles' duo: Loss of citizensh...</td>\n",
       "      <td>BBC News (UK)</td>\n",
       "      <td>4</td>\n",
       "    </tr>\n",
       "    <tr>\n",
       "      <th>4</th>\n",
       "      <td>0.0000</td>\n",
       "      <td>1.000</td>\n",
       "      <td>0.000</td>\n",
       "      <td>0.0</td>\n",
       "      <td>Paramedics set to prescribe medicines https://...</td>\n",
       "      <td>BBC News (UK)</td>\n",
       "      <td>5</td>\n",
       "    </tr>\n",
       "  </tbody>\n",
       "</table>\n",
       "</div>"
      ],
      "text/plain": [
       "   Compound  Negative  Neutral  Positive  \\\n",
       "0   -0.7096     0.459    0.541       0.0   \n",
       "1   -0.6249     0.687    0.313       0.0   \n",
       "2    0.0000     1.000    0.000       0.0   \n",
       "3   -0.3182     0.777    0.223       0.0   \n",
       "4    0.0000     1.000    0.000       0.0   \n",
       "\n",
       "                                               Tweet        account  tweet ago  \n",
       "0  Schools cutting posts amid 'funding catastroph...  BBC News (UK)          1  \n",
       "1  Met Police chief: Social media leads children ...  BBC News (UK)          2  \n",
       "2  Stansted Airport: Flights to resume after canc...  BBC News (UK)          3  \n",
       "3  Islamic State 'Beatles' duo: Loss of citizensh...  BBC News (UK)          4  \n",
       "4  Paramedics set to prescribe medicines https://...  BBC News (UK)          5  "
      ]
     },
     "execution_count": 237,
     "metadata": {},
     "output_type": "execute_result"
    }
   ],
   "source": [
    "data_pd.head()"
   ]
  },
  {
   "cell_type": "code",
   "execution_count": 238,
   "metadata": {
    "collapsed": true
   },
   "outputs": [],
   "source": [
    "BBC=data_pd[data_pd[\"account\"]=='BBC News (UK)']\n",
    "CBS = data_pd[data_pd['account']=='CBS News']\n",
    "CNN = data_pd[data_pd['account']=='CNN']\n",
    "FOX = data_pd[data_pd['account']=='Fox News']\n",
    "NYTimes = data_pd[data_pd['account']=='The New York Times']"
   ]
  },
  {
   "cell_type": "code",
   "execution_count": 245,
   "metadata": {},
   "outputs": [
    {
     "data": {
      "image/png": "[encoded data removed]",
      "text/plain": [
       "<matplotlib.figure.Figure at 0x10fdc7dd8>"
      ]
     },
     "metadata": {},
     "output_type": "display_data"
    }
   ],
   "source": [
    "plt.scatter(x=BBC['tweet ago'], y=BBC['Compound'], c='skyblue',edgecolors='black')\n",
    "plt.scatter(x=CBS['tweet ago'], y=CBS['Compound'], c='green',edgecolors='black')\n",
    "plt.scatter(x=CNN['tweet ago'], y=CNN['Compound'], c='red',edgecolors='black')\n",
    "plt.scatter(x=FOX['tweet ago'], y=FOX['Compound'], c='blue',edgecolors='black')\n",
    "plt.scatter(x=NYTimes['tweet ago'], y=NYTimes['Compound'], c='yellow',edgecolors='black')\n",
    "plt.title(\"Sentiment Analysis of Media Tweets\")\n",
    "plt.ylabel(\"Tweet Polarity\")\n",
    "plt.xlabel(\"Tweets Ago\")\n",
    "plt.grid(True)\n",
    "plt.savefig('Analysis_all_5accounts.png')\n",
    "plt.show()"
   ]
  },
  {
   "cell_type": "code",
   "execution_count": 244,
   "metadata": {},
   "outputs": [
    {
     "data": {
      "image/png": "[encoded data removed]",
      "text/plain": [
       "<matplotlib.figure.Figure at 0x10fd67320>"
      ]
     },
     "metadata": {},
     "output_type": "display_data"
    }
   ],
   "source": [
    "overal=data_pd.groupby(['account']).mean()['Compound']\n",
    "overal=overal.reset_index('account')\n",
    "sns.barplot(y=overal['Compound'], x=overal['account'], data=overal,\n",
    "            palette={\"BBC News (UK)\":\"skyblue\", \"CBS News\":\"green\", \"CNN\":\"red\", \"Fox News\":\"blue\", \"The New York Times\":\"yellow\"},\n",
    "            alpha=0.8, linewidth=1,)\n",
    "plt.title(\"Overall Media Sentiment based on Twitter(03/30/2018)\")\n",
    "plt.ylabel(\"Tweet Polarity\")\n",
    "plt.savefig('OverallSentiment.png')\n",
    "plt.show()\n"
   ]
  },
  {
   "cell_type": "code",
   "execution_count": 246,
   "metadata": {},
   "outputs": [
    {
     "name": "stdout",
     "output_type": "stream",
     "text": [
      "/Users/elham/Desktop/Bootcamp/UCBBEL201801DATA5-Class-Repository-DATA/07-Social_Analytics/Homework/Instructions\r\n"
     ]
    }
   ],
   "source": [
    "!pwd"
   ]
  },
  {
   "cell_type": "code",
   "execution_count": null,
   "metadata": {
    "collapsed": true
   },
   "outputs": [],
   "source": []
  }
 ],
 "metadata": {
  "kernelspec": {
   "display_name": "Python [conda env:PythonData]",
   "language": "python",
   "name": "conda-env-PythonData-py"
  },
  "language_info": {
   "codemirror_mode": {
    "name": "ipython",
    "version": 3
   },
   "file_extension": ".py",
   "mimetype": "text/x-python",
   "name": "python",
   "nbconvert_exporter": "python",
   "pygments_lexer": "ipython3",
   "version": "3.6.3"
  }
 },
 "nbformat": 4,
 "nbformat_minor": 2
}
